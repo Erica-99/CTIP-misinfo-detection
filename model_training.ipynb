{
 "cells": [
  {
   "cell_type": "markdown",
   "id": "872d5116",
   "metadata": {},
   "source": [
    "# Misinformation Detection\n",
    "### Model Training Notebook\n",
    "\n",
    "*Session 20 Group 4*\n",
    "*Erica, Sahan, Dinuka*"
   ]
  },
  {
   "cell_type": "markdown",
   "id": "0dccdf41",
   "metadata": {},
   "source": [
    "### Setup (always run these):"
   ]
  },
  {
   "cell_type": "markdown",
   "id": "2e4baea8",
   "metadata": {},
   "source": [
    "Imports:"
   ]
  },
  {
   "cell_type": "code",
   "execution_count": 23,
   "id": "f1c142c1",
   "metadata": {},
   "outputs": [],
   "source": [
    "import pandas as pd\n",
    "import numpy as np\n",
    "import matplotlib.pyplot as plt\n",
    "from IPython.display import display\n",
    "import nltk\n",
    "from nltk.util import ngrams\n",
    "from nltk.tokenize import word_tokenize\n",
    "from nltk.corpus import stopwords as nltkstopwords\n",
    "from gensim.models import Word2Vec\n",
    "from collections import Counter\n",
    "from sklearn.model_selection import train_test_split\n",
    "from sklearn.linear_model import LogisticRegression\n",
    "from sklearn.metrics import accuracy_score, precision_score, recall_score, f1_score\n",
    "from sklearn.preprocessing import MinMaxScaler\n",
    "from sklearn.feature_extraction.text import TfidfVectorizer\n",
    "from sklearn.base import BaseEstimator, TransformerMixin\n",
    "from sklearn.pipeline import Pipeline, FeatureUnion\n",
    "from sklearn.ensemble import RandomForestClassifier\n",
    "from sklearn.naive_bayes import MultinomialNB, GaussianNB\n",
    "from sklearn.svm import LinearSVC\n",
    "from sklearn.neighbors import NearestNeighbors\n",
    "from sklearn.cluster import DBSCAN, MiniBatchKMeans\n",
    "from sklearn.metrics import silhouette_score\n",
    "from dbcv import dbcv\n",
    "import copy\n",
    "import umap"
   ]
  },
  {
   "cell_type": "markdown",
   "id": "95e5c5e9",
   "metadata": {},
   "source": [
    "Setup:"
   ]
  },
  {
   "cell_type": "code",
   "execution_count": 5,
   "id": "ac5b1cf1",
   "metadata": {},
   "outputs": [
    {
     "data": {
      "text/html": [
       "<div>\n",
       "<style scoped>\n",
       "    .dataframe tbody tr th:only-of-type {\n",
       "        vertical-align: middle;\n",
       "    }\n",
       "\n",
       "    .dataframe tbody tr th {\n",
       "        vertical-align: top;\n",
       "    }\n",
       "\n",
       "    .dataframe thead th {\n",
       "        text-align: right;\n",
       "    }\n",
       "</style>\n",
       "<table border=\"1\" class=\"dataframe\">\n",
       "  <thead>\n",
       "    <tr style=\"text-align: right;\">\n",
       "      <th></th>\n",
       "      <th>text</th>\n",
       "      <th>label</th>\n",
       "    </tr>\n",
       "  </thead>\n",
       "  <tbody>\n",
       "    <tr>\n",
       "      <th>0</th>\n",
       "      <td>the reason why jade helm is obama favorite con...</td>\n",
       "      <td>fake</td>\n",
       "    </tr>\n",
       "    <tr>\n",
       "      <th>1</th>\n",
       "      <td>us president donald trump revised hardline pol...</td>\n",
       "      <td>real</td>\n",
       "    </tr>\n",
       "    <tr>\n",
       "      <th>2</th>\n",
       "      <td>brazilian congressional report recommended on ...</td>\n",
       "      <td>real</td>\n",
       "    </tr>\n",
       "    <tr>\n",
       "      <th>3</th>\n",
       "      <td>ah the simpsons the hilarious animated show th...</td>\n",
       "      <td>fake</td>\n",
       "    </tr>\n",
       "    <tr>\n",
       "      <th>4</th>\n",
       "      <td>says former fbi director james comey admitted ...</td>\n",
       "      <td>fake</td>\n",
       "    </tr>\n",
       "  </tbody>\n",
       "</table>\n",
       "</div>"
      ],
      "text/plain": [
       "                                                text label\n",
       "0  the reason why jade helm is obama favorite con...  fake\n",
       "1  us president donald trump revised hardline pol...  real\n",
       "2  brazilian congressional report recommended on ...  real\n",
       "3  ah the simpsons the hilarious animated show th...  fake\n",
       "4  says former fbi director james comey admitted ...  fake"
      ]
     },
     "metadata": {},
     "output_type": "display_data"
    }
   ],
   "source": [
    "# Read in dataset\n",
    "dataset = pd.read_csv(\"data/processed_dataset.csv\", index_col=0)\n",
    "\n",
    "display(dataset.head())\n",
    "\n",
    "# Define universal stopwords\n",
    "stopwords = set(nltkstopwords.words('english'))\n",
    "stopwords.update(['said', 'aren', 'couldn', 'didn', 'doesn', 'don', 'hadn', 'hasn', 'haven', 'isn', 'let', 'll', 'mustn', 're', 'shan', 'shouldn', 've', 'wasn', 'weren', 'wouldn'])\n",
    "STOPWORDS = list(stopwords)\n",
    "\n",
    "RANDOM_STATE = 17\n",
    "\n",
    "# Initialise classifier models to be tested with their hyperparameters\n",
    "CLASSIFIER_MODELS = {\n",
    "    \"Logistic Regression\": LogisticRegression(max_iter=2000, n_jobs=-1),\n",
    "    \"Naive Bayes\": MultinomialNB(alpha=1e-8),\n",
    "    \"Linear SVM\": LinearSVC(penalty='l2', max_iter=500),\n",
    "    \"Random Forest\": RandomForestClassifier(n_estimators=300, max_depth=20, n_jobs=-1)\n",
    "}\n",
    "\n",
    "CLASSIFIER_MODELS_SEMANTIC = {\n",
    "    \"Logistic Regression\": LogisticRegression(max_iter=2000, n_jobs=-1),\n",
    "    \"Naive Bayes\": GaussianNB(var_smoothing=1e-8),\n",
    "    \"Linear SVM\": LinearSVC(penalty='l2', max_iter=500),\n",
    "    \"Random Forest\": RandomForestClassifier(n_estimators=300, max_depth=20, n_jobs=-1)\n",
    "}\n",
    "\n",
    "# Training and evaluator function for classifiers\n",
    "def train_and_eval_classifier(model, X_train, X_test, y_train, y_test):\n",
    "    training_model = copy.deepcopy(model)\n",
    "    training_model.fit(X_train, y_train)\n",
    "    \n",
    "    y_pred = training_model.predict(X_test)\n",
    "    \n",
    "    accuracy = accuracy_score(y_test, y_pred)\n",
    "    precision = precision_score(y_test, y_pred, pos_label='real')\n",
    "    recall = recall_score(y_test, y_pred, pos_label='real')\n",
    "    f1 = f1_score(y_test, y_pred, pos_label='real')\n",
    "    return accuracy, precision, recall, f1"
   ]
  },
  {
   "cell_type": "markdown",
   "id": "6bd075a9",
   "metadata": {},
   "source": [
    "### Manually Extracting Features"
   ]
  },
  {
   "cell_type": "markdown",
   "id": "c98347b4",
   "metadata": {},
   "source": [
    "Using specific highly label-correlated bigrams. These are sourced from the data visualisation notebook.\n",
    "\n",
    "\"president donald\", \"washington reuters\", \"told reporters\", \"told reuters\", \"house representatives\", \"us president\", \"getty images\", \"image via\", \"featured image\" are all probably significantly correlated with labels enough to consider using them for features."
   ]
  },
  {
   "cell_type": "code",
   "execution_count": 23,
   "id": "38b02959",
   "metadata": {},
   "outputs": [],
   "source": [
    "TARGET_BIGRAMS = [\n",
    "    (\"president\", \"donald\"),\n",
    "    (\"washington\", \"reuters\"),\n",
    "    (\"told\", \"reporters\"),\n",
    "    (\"told\", \"reuters\"),\n",
    "    (\"house\", \"representatives\"),\n",
    "    (\"us\", \"president\"),\n",
    "    (\"getty\", \"images\"),\n",
    "    (\"image\", \"via\"),\n",
    "    (\"featured\", \"image\")\n",
    "]"
   ]
  },
  {
   "cell_type": "markdown",
   "id": "775184f6",
   "metadata": {},
   "source": [
    "We now count the instances of each of these bigrams in each document, and save these as new feature columns."
   ]
  },
  {
   "cell_type": "code",
   "execution_count": 24,
   "id": "2cff0d8a",
   "metadata": {},
   "outputs": [
    {
     "name": "stderr",
     "output_type": "stream",
     "text": [
      "[nltk_data] Downloading package punkt to\n",
      "[nltk_data]     C:\\Users\\user\\AppData\\Roaming\\nltk_data...\n",
      "[nltk_data]   Package punkt is already up-to-date!\n",
      "[nltk_data] Downloading package punkt_tab to\n",
      "[nltk_data]     C:\\Users\\user\\AppData\\Roaming\\nltk_data...\n",
      "[nltk_data]   Package punkt_tab is already up-to-date!\n"
     ]
    },
    {
     "data": {
      "text/html": [
       "<div>\n",
       "<style scoped>\n",
       "    .dataframe tbody tr th:only-of-type {\n",
       "        vertical-align: middle;\n",
       "    }\n",
       "\n",
       "    .dataframe tbody tr th {\n",
       "        vertical-align: top;\n",
       "    }\n",
       "\n",
       "    .dataframe thead th {\n",
       "        text-align: right;\n",
       "    }\n",
       "</style>\n",
       "<table border=\"1\" class=\"dataframe\">\n",
       "  <thead>\n",
       "    <tr style=\"text-align: right;\">\n",
       "      <th></th>\n",
       "      <th>text</th>\n",
       "      <th>label</th>\n",
       "      <th>president_donald</th>\n",
       "      <th>washington_reuters</th>\n",
       "      <th>told_reporters</th>\n",
       "      <th>told_reuters</th>\n",
       "      <th>house_representatives</th>\n",
       "      <th>us_president</th>\n",
       "      <th>getty_images</th>\n",
       "      <th>image_via</th>\n",
       "      <th>featured_image</th>\n",
       "    </tr>\n",
       "  </thead>\n",
       "  <tbody>\n",
       "    <tr>\n",
       "      <th>0</th>\n",
       "      <td>the reason why jade helm is obama favorite con...</td>\n",
       "      <td>fake</td>\n",
       "      <td>0</td>\n",
       "      <td>0</td>\n",
       "      <td>0</td>\n",
       "      <td>0</td>\n",
       "      <td>0</td>\n",
       "      <td>0</td>\n",
       "      <td>0</td>\n",
       "      <td>0</td>\n",
       "      <td>1</td>\n",
       "    </tr>\n",
       "    <tr>\n",
       "      <th>1</th>\n",
       "      <td>us president donald trump revised hardline pol...</td>\n",
       "      <td>real</td>\n",
       "      <td>1</td>\n",
       "      <td>0</td>\n",
       "      <td>0</td>\n",
       "      <td>0</td>\n",
       "      <td>0</td>\n",
       "      <td>1</td>\n",
       "      <td>0</td>\n",
       "      <td>0</td>\n",
       "      <td>0</td>\n",
       "    </tr>\n",
       "    <tr>\n",
       "      <th>2</th>\n",
       "      <td>brazilian congressional report recommended on ...</td>\n",
       "      <td>real</td>\n",
       "      <td>0</td>\n",
       "      <td>0</td>\n",
       "      <td>0</td>\n",
       "      <td>0</td>\n",
       "      <td>0</td>\n",
       "      <td>0</td>\n",
       "      <td>0</td>\n",
       "      <td>0</td>\n",
       "      <td>0</td>\n",
       "    </tr>\n",
       "    <tr>\n",
       "      <th>3</th>\n",
       "      <td>ah the simpsons the hilarious animated show th...</td>\n",
       "      <td>fake</td>\n",
       "      <td>0</td>\n",
       "      <td>0</td>\n",
       "      <td>0</td>\n",
       "      <td>0</td>\n",
       "      <td>0</td>\n",
       "      <td>0</td>\n",
       "      <td>0</td>\n",
       "      <td>1</td>\n",
       "      <td>1</td>\n",
       "    </tr>\n",
       "    <tr>\n",
       "      <th>4</th>\n",
       "      <td>says former fbi director james comey admitted ...</td>\n",
       "      <td>fake</td>\n",
       "      <td>0</td>\n",
       "      <td>0</td>\n",
       "      <td>0</td>\n",
       "      <td>0</td>\n",
       "      <td>0</td>\n",
       "      <td>0</td>\n",
       "      <td>0</td>\n",
       "      <td>0</td>\n",
       "      <td>0</td>\n",
       "    </tr>\n",
       "  </tbody>\n",
       "</table>\n",
       "</div>"
      ],
      "text/plain": [
       "                                                text label  president_donald  \\\n",
       "0  the reason why jade helm is obama favorite con...  fake                 0   \n",
       "1  us president donald trump revised hardline pol...  real                 1   \n",
       "2  brazilian congressional report recommended on ...  real                 0   \n",
       "3  ah the simpsons the hilarious animated show th...  fake                 0   \n",
       "4  says former fbi director james comey admitted ...  fake                 0   \n",
       "\n",
       "   washington_reuters  told_reporters  told_reuters  house_representatives  \\\n",
       "0                   0               0             0                      0   \n",
       "1                   0               0             0                      0   \n",
       "2                   0               0             0                      0   \n",
       "3                   0               0             0                      0   \n",
       "4                   0               0             0                      0   \n",
       "\n",
       "   us_president  getty_images  image_via  featured_image  \n",
       "0             0             0          0               1  \n",
       "1             1             0          0               0  \n",
       "2             0             0          0               0  \n",
       "3             0             0          1               1  \n",
       "4             0             0          0               0  "
      ]
     },
     "execution_count": 24,
     "metadata": {},
     "output_type": "execute_result"
    }
   ],
   "source": [
    "nltk.download('punkt')\n",
    "nltk.download('punkt_tab')\n",
    "\n",
    "def count_target_bigrams(text, target_bigrams):\n",
    "    tokens = nltk.word_tokenize(text.lower())\n",
    "    bigrams_in_text = list(ngrams(tokens, 2))\n",
    "    bigram_counts = Counter(bigrams_in_text)\n",
    "    \n",
    "    return {f\"{w1}_{w2}\": bigram_counts.get((w1, w2), 0) for (w1, w2) in target_bigrams}\n",
    "\n",
    "bigram_features_df = dataset['text'].apply(lambda x: count_target_bigrams(x, TARGET_BIGRAMS)).apply(pd.Series)\n",
    "\n",
    "expanded_dataset = pd.concat([dataset, bigram_features_df], axis=1)\n",
    "expanded_dataset.head(5)"
   ]
  },
  {
   "cell_type": "markdown",
   "id": "538a63cf",
   "metadata": {},
   "source": [
    "### Training Classifier Models on Manually Extracted Features"
   ]
  },
  {
   "cell_type": "code",
   "execution_count": null,
   "id": "304e9f52",
   "metadata": {},
   "outputs": [
    {
     "name": "stdout",
     "output_type": "stream",
     "text": [
      "------- Manual Extraction - Logistic Regression -------\n",
      "Accuracy: 0.673\n",
      "Precision: 0.901\n",
      "Recall: 0.321\n",
      "F1 Score: 0.473\n",
      "\n",
      "------- Manual Extraction - Naive Bayes -------\n",
      "Accuracy: 0.673\n",
      "Precision: 0.904\n",
      "Recall: 0.321\n",
      "F1 Score: 0.473\n",
      "\n",
      "------- Manual Extraction - Linear SVM -------\n",
      "Accuracy: 0.673\n",
      "Precision: 0.901\n",
      "Recall: 0.321\n",
      "F1 Score: 0.473\n",
      "\n",
      "------- Manual Extraction - Random Forest -------\n",
      "Accuracy: 0.643\n",
      "Precision: 0.958\n",
      "Recall: 0.230\n",
      "F1 Score: 0.371\n",
      "\n"
     ]
    }
   ],
   "source": [
    "bigram_feature_cols = [f\"{w1}_{w2}\" for w1, w2 in TARGET_BIGRAMS]\n",
    "\n",
    "X = expanded_dataset[bigram_feature_cols].fillna(0).values\n",
    "y = expanded_dataset['label']\n",
    "\n",
    "X_train, X_test, y_train, y_test = train_test_split(X, y, test_size=0.2, random_state=RANDOM_STATE, stratify=y)\n",
    "\n",
    "scaler = MinMaxScaler(feature_range=(0,1)) # Scaler is used to normalise the data. Range of 0, 1 is used since Naive Bayes requires positive values.\n",
    "X_train = scaler.fit_transform(X_train)\n",
    "\n",
    "for name, model in CLASSIFIER_MODELS.items():\n",
    "    accuracy, precision, recall, f1 = train_and_eval_classifier(model, X_train, X_test, y_train, y_test)\n",
    "    \n",
    "    print(f\"------- Manual Extraction - {name} -------\")\n",
    "\n",
    "    print(f\"Accuracy: {accuracy:0.3f}\")\n",
    "    print(f\"Precision: {precision:0.3f}\")\n",
    "    print(f\"Recall: {recall:0.3f}\")\n",
    "    print(f\"F1 Score: {f1:0.3f}\\n\")"
   ]
  },
  {
   "cell_type": "markdown",
   "id": "3cadc7b5",
   "metadata": {},
   "source": [
    "These all performed quite terribly, which maybe isn't that surprising given how little information is provided to the model with manual feature extraction. It is still better than randomly guessing, however."
   ]
  },
  {
   "cell_type": "markdown",
   "id": "b1249be1",
   "metadata": {},
   "source": [
    "### Training Classifier Models on TF-IDF"
   ]
  },
  {
   "cell_type": "code",
   "execution_count": null,
   "id": "021db581",
   "metadata": {},
   "outputs": [
    {
     "name": "stdout",
     "output_type": "stream",
     "text": [
      "------- TF-IDF Vectorisation - Logistic Regression -------\n",
      "Accuracy: 0.917\n",
      "Precision: 0.930\n",
      "Recall: 0.886\n",
      "F1 Score: 0.908\n",
      "------- TF-IDF Vectorisation - Naive Bayes -------\n",
      "Accuracy: 0.902\n",
      "Precision: 0.890\n",
      "Recall: 0.896\n",
      "F1 Score: 0.893\n",
      "------- TF-IDF Vectorisation - Linear SVM -------\n",
      "Accuracy: 0.936\n",
      "Precision: 0.943\n",
      "Recall: 0.915\n",
      "F1 Score: 0.929\n",
      "------- TF-IDF Vectorisation - Random Forest -------\n",
      "Accuracy: 0.811\n",
      "Precision: 0.947\n",
      "Recall: 0.622\n",
      "F1 Score: 0.750\n"
     ]
    }
   ],
   "source": [
    "X = dataset['text']\n",
    "y = dataset['label']\n",
    "\n",
    "X_train, X_test, y_train, y_test = train_test_split(X, y, test_size=0.2, random_state=RANDOM_STATE, stratify=y)\n",
    "\n",
    "vectorizer = TfidfVectorizer(ngram_range=(1,2), min_df=5, stop_words=STOPWORDS)\n",
    "\n",
    "X_train = vectorizer.fit_transform(X_train)\n",
    "X_test = vectorizer.transform(X_test)\n",
    "\n",
    "for name, model in CLASSIFIER_MODELS.items():\n",
    "    accuracy, precision, recall, f1 = train_and_eval_classifier(model, X_train, X_test, y_train, y_test)\n",
    "    \n",
    "    print(f\"------- TF-IDF Vectorisation - {name} -------\")\n",
    "\n",
    "    print(f\"Accuracy: {accuracy:0.3f}\")\n",
    "    print(f\"Precision: {precision:0.3f}\")\n",
    "    print(f\"Recall: {recall:0.3}\")\n",
    "    print(f\"F1 Score: {f1:0.3f}\")"
   ]
  },
  {
   "cell_type": "markdown",
   "id": "76be4e99",
   "metadata": {},
   "source": [
    "Looks like TF-IDF Vectorisation with Linear SVM is our best performing model so far."
   ]
  },
  {
   "cell_type": "markdown",
   "id": "33c93439",
   "metadata": {},
   "source": [
    "### Training Classifier Models on a Hybrid Feature Extractor with TF-IDF + Manual Features"
   ]
  },
  {
   "cell_type": "code",
   "execution_count": null,
   "id": "f716de1f",
   "metadata": {},
   "outputs": [
    {
     "name": "stdout",
     "output_type": "stream",
     "text": [
      "------- Hybrid Feature Extraction - Logistic Regression -------\n",
      "Accuracy: 0.918\n",
      "Precision: 0.925\n",
      "Recall: 0.894\n",
      "F1 Score: 0.909\n",
      "------- Hybrid Feature Extraction - Naive Bayes -------\n",
      "Accuracy: 0.903\n",
      "Precision: 0.891\n",
      "Recall: 0.898\n",
      "F1 Score: 0.894\n",
      "------- Hybrid Feature Extraction - Linear SVM -------\n",
      "Accuracy: 0.936\n",
      "Precision: 0.942\n",
      "Recall: 0.917\n",
      "F1 Score: 0.930\n",
      "------- Hybrid Feature Extraction - Random Forest -------\n",
      "Accuracy: 0.814\n",
      "Precision: 0.946\n",
      "Recall: 0.630\n",
      "F1 Score: 0.757\n"
     ]
    }
   ],
   "source": [
    "TARGET_BIGRAMS = [\n",
    "    (\"president\", \"donald\"),\n",
    "    (\"washington\", \"reuters\"),\n",
    "    (\"told\", \"reporters\"),\n",
    "    (\"told\", \"reuters\"),\n",
    "    (\"house\", \"representatives\"),\n",
    "    (\"us\", \"president\"),\n",
    "    (\"getty\", \"images\"),\n",
    "    (\"image\", \"via\"),\n",
    "    (\"featured\", \"image\")\n",
    "]\n",
    "\n",
    "# Custom transformer to extract the text column\n",
    "class TextSelector(BaseEstimator, TransformerMixin):\n",
    "    def __init__(self, key):\n",
    "        self.key = key\n",
    "\n",
    "    def fit(self, X, y=None):\n",
    "        return self\n",
    "\n",
    "    def transform(self, X):\n",
    "        return X[self.key]\n",
    "\n",
    "# Custom transformer to extract the manually-extracted feature columns\n",
    "class NumberSelector(BaseEstimator, TransformerMixin):\n",
    "    def __init__(self, keys):\n",
    "        self.keys = keys\n",
    "\n",
    "    def fit(self, X, y=None):\n",
    "        return self\n",
    "\n",
    "    def transform(self, X):\n",
    "        return X[self.keys]\n",
    "    \n",
    "manual_feature_columns = [f\"{w1}_{w2}\" for w1, w2 in TARGET_BIGRAMS]\n",
    "\n",
    "# TF-IDF Vectorizer pipeline. Unfortunately due to how sklearn handles pipelines we will have to refit the vectoriser for each model. \n",
    "text_pipeline = Pipeline([\n",
    "    ('selector', TextSelector('text')),\n",
    "    ('tfidf', TfidfVectorizer(ngram_range=(1,2), min_df=5, stop_words=STOPWORDS)) # Min_df means the uni/bigram must appear in at least 5 documents to be considered.\n",
    "])\n",
    "\n",
    "# Manual features pipeline\n",
    "manual_pipeline = Pipeline([\n",
    "    ('selector', NumberSelector(manual_feature_columns)),\n",
    "    ('scaler', MinMaxScaler(feature_range=(0,1)))\n",
    "])\n",
    "\n",
    "combined_features = FeatureUnion([\n",
    "    ('text_features', text_pipeline),\n",
    "    ('manual_features', manual_pipeline)\n",
    "])\n",
    "\n",
    "X = expanded_dataset[['text'] + manual_feature_columns]\n",
    "y = expanded_dataset['label']\n",
    "\n",
    "X_train, X_test, y_train, y_test = train_test_split(X, y, test_size=0.2, random_state=RANDOM_STATE, stratify=y)\n",
    "\n",
    "pipelines = []\n",
    "for name, model in CLASSIFIER_MODELS.items():\n",
    "    hybrid_pipeline = Pipeline([\n",
    "        ('features', combined_features),\n",
    "        ('clf', copy.deepcopy(model))\n",
    "    ])\n",
    "    \n",
    "    accuracy, precision, recall, f1 = train_and_eval_classifier(hybrid_pipeline, X_train, X_test, y_train, y_test)\n",
    "\n",
    "    print(f\"------- Hybrid Feature Extraction - {name} -------\")\n",
    "    print(f\"Accuracy: {accuracy:0.3f}\")\n",
    "    print(f\"Precision: {precision:0.3f}\")\n",
    "    print(f\"Recall: {recall:0.3f}\")\n",
    "    print(f\"F1 Score: {f1:0.3f}\")"
   ]
  },
  {
   "cell_type": "markdown",
   "id": "be76bfcf",
   "metadata": {},
   "source": [
    "Similar results to using just TF-IDF on its own for feature extraction. Again the results for Linear SVM are the best, and roughly equal to Linear SVM when trained on just TF-IDF extraction. The results are similar enough that they can probably be accounted for by random error, and it will be much easier to just use TF-IDF alone for feature extraction on a final classifier model. This should also run faster by skipping all the steps in manual extraction."
   ]
  },
  {
   "cell_type": "markdown",
   "id": "0d38888c",
   "metadata": {},
   "source": [
    "### Using Semantic Embeddings for Feature Extraction"
   ]
  },
  {
   "cell_type": "markdown",
   "id": "d222f576",
   "metadata": {},
   "source": [
    "Using semantic embeddings for feature extraction requires us to first train a semantic embedding model. We will use a standard Word2Vec model as it is fast and should still work well with our aggressive preprocessing.\n",
    "\n",
    "We will use skip-gram instead of CBOW. Misinformation datasets can contain a lot of different rare conspiracy or insult words which are otherwise not common. For this reason, predicting surrounding words is likely more useful than predicting centre words.\n",
    "\n",
    "We keep stopwords in as they can contain relevant meaning and context for the semantic embeddings."
   ]
  },
  {
   "cell_type": "code",
   "execution_count": 6,
   "id": "33809d84",
   "metadata": {},
   "outputs": [],
   "source": [
    "semantic_dataset = dataset\n",
    "semantic_dataset['tokens'] = semantic_dataset['text'].apply(word_tokenize) # Tokenises the dataset (breaks it into word/subwords). This is necessary for how Word2Vec embeddings are calculated.\n",
    "\n",
    "X = semantic_dataset['tokens']\n",
    "y = semantic_dataset['label']\n",
    "\n",
    "X_train, X_test, y_train, y_test = train_test_split(X, y, test_size=0.2, random_state=RANDOM_STATE)\n",
    "\n",
    "w2v_model = Word2Vec(\n",
    "    sentences=X_train, # Only train on the training data part to prevent overfitting the embedding model.\n",
    "    vector_size=128,\n",
    "    window=5,\n",
    "    min_count=5, # At least 5 instances of the word\n",
    "    workers=4,\n",
    "    sg=1\n",
    ")\n",
    "\n",
    "# Function to calculate the average vector in a document from all the word vectors. Average vector is better than just sum of vectors here, as it is unaffected by document length.\n",
    "def document_vector(tokens, model):\n",
    "    vectors = [model.wv[word] for word in tokens if word in model.wv]\n",
    "    if vectors:\n",
    "        return np.mean(vectors, axis=0)\n",
    "    else:\n",
    "        return np.zeros(model.vector_size)\n",
    "\n",
    "# Apply this function to the tokenised dataset to make a vector for every document.\n",
    "semantic_dataset['doc_vector'] = semantic_dataset['tokens'].apply(lambda tokens: document_vector(tokens, w2v_model))"
   ]
  },
  {
   "cell_type": "markdown",
   "id": "8796542c",
   "metadata": {},
   "source": [
    "### Training Classifier Models with Semantic Embeddings"
   ]
  },
  {
   "cell_type": "markdown",
   "id": "2676b41b",
   "metadata": {},
   "source": [
    "We will train a our standard classifier models on semantic embedding data. We swap out the Multinomial Naive Bayes for a Gaussian Naive Bayes, since restricting semantic embedding values to above 0 would drastically alter the data."
   ]
  },
  {
   "cell_type": "code",
   "execution_count": 99,
   "id": "1b146fb4",
   "metadata": {},
   "outputs": [
    {
     "name": "stdout",
     "output_type": "stream",
     "text": [
      "------- Semantic Embeddings - Logistic Regression -------\n",
      "Accuracy: 0.856\n",
      "Precision: 0.844\n",
      "Recall: 0.838\n",
      "F1 Score: 0.841\n",
      "------- Semantic Embeddings - Naive Bayes -------\n",
      "Accuracy: 0.738\n",
      "Precision: 0.667\n",
      "Recall: 0.839\n",
      "F1 Score: 0.743\n",
      "------- Semantic Embeddings - Linear SVM -------\n",
      "Accuracy: 0.857\n",
      "Precision: 0.843\n",
      "Recall: 0.839\n",
      "F1 Score: 0.841\n",
      "------- Semantic Embeddings - Random Forest -------\n",
      "Accuracy: 0.893\n",
      "Precision: 0.907\n",
      "Recall: 0.850\n",
      "F1 Score: 0.877\n"
     ]
    }
   ],
   "source": [
    "X = np.vstack(semantic_dataset['doc_vector'].to_numpy())\n",
    "y = semantic_dataset['label']\n",
    "\n",
    "X_train, X_test, y_train, y_test = train_test_split(X, y, test_size=0.2, random_state=RANDOM_STATE)\n",
    "\n",
    "for name, model in CLASSIFIER_MODELS_SEMANTIC.items():\n",
    "    accuracy, precision, recall, f1 = train_and_eval_classifier(model, X_train, X_test, y_train, y_test)\n",
    "\n",
    "    print(f\"------- Semantic Embeddings - {name} -------\")\n",
    "    print(f\"Accuracy: {accuracy:0.3f}\")\n",
    "    print(f\"Precision: {precision:0.3f}\")\n",
    "    print(f\"Recall: {recall:0.3f}\")\n",
    "    print(f\"F1 Score: {f1:0.3f}\")"
   ]
  },
  {
   "cell_type": "markdown",
   "id": "3bf2065d",
   "metadata": {},
   "source": [
    "With semantic embeddings, a Random Forest Classifier seems to work best. Unfortunately all of these results are still a fair bit worse than TF-IDF with Linear SVM."
   ]
  },
  {
   "cell_type": "markdown",
   "id": "14e6e309",
   "metadata": {},
   "source": [
    "### DBSCAN Clustering on Semantic Embeddings\n",
    "\n",
    "Clustering will likely be done most effectively by using semantic embeddings. These provide a smaller and more information-dense vector out of documents, as well as the semantic clusters formed being generally more meaningful to humans. Our objective is to observe patterns in the data, which will be most meaningful with semantic embeddings.\n",
    "\n",
    "Similarly, we expect DBSCAN to work better than K-means for clustering, based on the UMAP of the data created for visualisation, in which the data is not clearly divisible as is ideal for K-means clustering. Regardless, both approaches will be tested.\n",
    "\n",
    "Due to the high dimensionality of the embedding vectors at 128 dimensions, these will first be reduced to just 16 dimensions using UMAP. PCA was considered for its speed, but it is unlikely to provide a good representation of the embeddings, as different dimensions may be more or less important in different documents, and PCA will not be consistent.\n",
    "\n",
    "__Running this section requires having run the section that trains a semantic embedding model.__"
   ]
  },
  {
   "cell_type": "code",
   "execution_count": 17,
   "id": "c3f764d4",
   "metadata": {},
   "outputs": [],
   "source": [
    "X = np.vstack(semantic_dataset['doc_vector'].to_numpy())\n",
    "\n",
    "X_16d = umap.UMAP(n_components=16, n_neighbors=15, min_dist=0.1, n_jobs=-1, metric='euclidean').fit_transform(X)\n",
    "X_16d = np.nan_to_num(X_16d)"
   ]
  },
  {
   "cell_type": "markdown",
   "id": "dbea40cd",
   "metadata": {},
   "source": [
    "Now we create a K-distance graph of the reduced data to find an ideal value for epsilon."
   ]
  },
  {
   "cell_type": "code",
   "execution_count": null,
   "id": "4fe4f4e8",
   "metadata": {},
   "outputs": [
    {
     "data": {
      "image/png": "[encoded data removed]",
      "text/plain": [
       "<Figure size 1000x500 with 1 Axes>"
      ]
     },
     "metadata": {},
     "output_type": "display_data"
    }
   ],
   "source": [
    "k = 48 # This is the same as min_samples for DBSCAN. The recommendation is 2 * dimensionality but I found a higher value produces better defined clusters for this dataset.\n",
    "neighbors = NearestNeighbors(n_neighbors=k, metric='euclidean')\n",
    "neighbors_fit = neighbors.fit(X_16d)\n",
    "\n",
    "distances, indices = neighbors_fit.kneighbors(X_16d)\n",
    "k_distances = distances[:, k - 1] # Get the k-th distance for each point.\n",
    "\n",
    "k_distances = np.sort(k_distances)\n",
    "\n",
    "# Plot\n",
    "plt.figure(figsize=(10, 5))\n",
    "plt.plot(k_distances)\n",
    "plt.title(f\"K-Distance Graph where (k = {k})\")\n",
    "plt.xlabel(\"Data Points\")\n",
    "plt.ylabel(f\"{k}-th Nearest Neighbor Distance\")\n",
    "plt.ylim(0, 2)\n",
    "plt.grid(True)\n",
    "plt.show()"
   ]
  },
  {
   "cell_type": "markdown",
   "id": "1ee5eaff",
   "metadata": {},
   "source": [
    "Based on this graph, it looks like a value of around 0.6 will work nicely for epsilon, as this the point where the graph turns sharply, indicating the maximum distance when core points are still in dense regions.\n",
    "\n",
    "Now we can run DBSCAN with the obtained epsilon value.\n",
    "\n",
    "It will be evaluated qualitatively with a 2D UMAP visualisation and quantitatively with silhouette score and DBCV (Density-based Clustering Validation)."
   ]
  },
  {
   "cell_type": "code",
   "execution_count": null,
   "id": "f3a8fbfb",
   "metadata": {},
   "outputs": [
    {
     "name": "stdout",
     "output_type": "stream",
     "text": [
      "Finished running DBSCAN.\n",
      "Estimated number of clusters: 13\n",
      "Number of points for each cluster: [105779, 107, 190, 258, 369, 202, 168, 84, 119, 138, 58, 56, 89]\n",
      "Estimated number of noise points: 1341\n",
      "Silhouette Score: 0.16535714268684387\n",
      "DBCV Score: 0.9073555144092155\n"
     ]
    }
   ],
   "source": [
    "dbscan = DBSCAN(eps=0.6, min_samples=48, metric='euclidean', n_jobs=-1)\n",
    "output_labels = dbscan.fit_predict(X_16d)\n",
    "\n",
    "print(\"Finished running DBSCAN.\")\n",
    "\n",
    "n_clusters = len(set(output_labels)) - (1 if -1 in output_labels else 0)\n",
    "n_noise = list(output_labels).count(-1)\n",
    "n_percluster = [list(output_labels).count(c) for c in set(output_labels) if c != -1]\n",
    "\n",
    "print(f\"Estimated number of clusters: {n_clusters}\")\n",
    "print(f\"Number of points for each cluster: {n_percluster}\")\n",
    "print(f\"Estimated number of noise points: {n_noise}\")\n",
    "\n",
    "# Remove noise points for silhouette validation\n",
    "noise_indices = np.where(output_labels == -1)[0]\n",
    "denoised_X = np.delete(X_16d, noise_indices, axis=0)\n",
    "denoised_labels = np.delete(output_labels, noise_indices, axis=0)\n",
    "\n",
    "# Can only run DBCV on a sample of output because it runs out of memory otherwise.\n",
    "X_df = pd.DataFrame(X_16d)\n",
    "labels_df = pd.DataFrame(output_labels)\n",
    "sample_indices = X_df.sample(frac=0.2, random_state=RANDOM_STATE).index\n",
    "sampled_X = X_df.loc[sample_indices].to_numpy()\n",
    "sampled_labels = labels_df.loc[sample_indices].to_numpy().ravel()\n",
    "\n",
    "dbscan_silhouette = silhouette_score(denoised_X, denoised_labels, metric='euclidean')\n",
    "print(f\"Silhouette Score: {dbscan_silhouette}\")\n",
    "dbscan_dbcv = dbcv(sampled_X, sampled_labels, metric='sqeuclidean', noise_id=-1)\n",
    "print(f\"DBCV Score: {dbscan_dbcv}\")\n"
   ]
  },
  {
   "cell_type": "markdown",
   "id": "0b429134",
   "metadata": {},
   "source": [
    "Map on a 2D UMAP for visualisation"
   ]
  },
  {
   "cell_type": "code",
   "execution_count": 21,
   "id": "2c816fb6",
   "metadata": {},
   "outputs": [
    {
     "data": {
      "image/png": "[encoded data removed]",
      "text/plain": [
       "<Figure size 1000x600 with 2 Axes>"
      ]
     },
     "metadata": {},
     "output_type": "display_data"
    }
   ],
   "source": [
    "X_2d = umap.UMAP(n_components=2, n_neighbors=15, min_dist=0.1, metric='euclidean').fit_transform(X)\n",
    "\n",
    "plt.figure(figsize=(10, 6))\n",
    "plt.scatter(X_2d[:, 0], X_2d[:, 1], c=output_labels, s=5)\n",
    "plt.title(\"DBSCAN Clusters Visualized with UMAP\")\n",
    "plt.xlabel(\"Dim 1\")\n",
    "plt.ylabel(\"Dim 2\")\n",
    "plt.colorbar(label='Cluster ID')\n",
    "plt.show()"
   ]
  },
  {
   "cell_type": "markdown",
   "id": "53c990c7",
   "metadata": {},
   "source": [
    "### K-Means Clustering on Semantic Embeddings"
   ]
  },
  {
   "cell_type": "markdown",
   "id": "87367cfe",
   "metadata": {},
   "source": [
    "For K-means, we found the best k value to use by simply iterating through every value of k from 2 to 30. We would have gone higher if needed but the results proved that to be unnecessary. Similarly to DBSCAN, we will reduce the dimensions down to 16 before running the clustering algorithm."
   ]
  },
  {
   "cell_type": "code",
   "execution_count": 14,
   "id": "7c6ac843",
   "metadata": {},
   "outputs": [],
   "source": [
    "X = np.vstack(semantic_dataset['doc_vector'].to_numpy())\n",
    "\n",
    "X_16d = umap.UMAP(n_components=16, n_neighbors=15, min_dist=0.1, n_jobs=-1, metric='euclidean').fit_transform(X)\n",
    "X_16d = np.nan_to_num(X_16d)"
   ]
  },
  {
   "cell_type": "markdown",
   "id": "623a08b1",
   "metadata": {},
   "source": [
    "Iterate through many k-values to find the best one (this takes a really long time to run)"
   ]
  },
  {
   "cell_type": "code",
   "execution_count": null,
   "id": "305ba938",
   "metadata": {},
   "outputs": [],
   "source": [
    "def choose_k(X, kmin, kmax):\n",
    "    # Run MiniBatchKMeans for different k values\n",
    "    rows = []\n",
    "    best_sil = -1\n",
    "    best_k = None\n",
    "\n",
    "    for k in range(kmin, kmax + 1):\n",
    "        print(f\"Testing k={k}\")\n",
    "        km = MiniBatchKMeans(n_clusters=k, random_state=RANDOM_STATE, batch_size=512)\n",
    "        labels = km.fit_predict(X)\n",
    "        sil = silhouette_score(X, labels)\n",
    "        rows.append({\"k\": k, \"silhouette\": sil})\n",
    "        if sil > best_sil:\n",
    "            print(f\"New best k found at k={k}\")\n",
    "            best_sil, best_k = sil, k\n",
    "\n",
    "    return pd.DataFrame(rows), best_k\n",
    "\n",
    "scores, best_k = choose_k(X_16d, 2, 30)\n",
    "\n",
    "print(f\"The best k-value found was {best_k}\")"
   ]
  },
  {
   "cell_type": "markdown",
   "id": "f0bf1d86",
   "metadata": {},
   "source": [
    "The best-found k value was 6 (not shown as output for the above cell as it was actually run earlier in a different file), so we will train a new K-Means model with n_clusters=6 for proper evaluation. The output will be evaluated using silhouette score and DBCV, as well as qualitatively with a 2D UMAP visualisation."
   ]
  },
  {
   "cell_type": "code",
   "execution_count": 15,
   "id": "5d6a856b",
   "metadata": {},
   "outputs": [
    {
     "name": "stdout",
     "output_type": "stream",
     "text": [
      "Finished K-Means prediction.\n",
      "Silhouette score: 0.34491392970085144\n",
      "DBCV score: -0.9989586551600029\n"
     ]
    }
   ],
   "source": [
    "k = 6\n",
    "\n",
    "kmeans = MiniBatchKMeans(n_clusters=k, random_state=RANDOM_STATE, batch_size=512)\n",
    "labels = kmeans.fit_predict(X_16d)\n",
    "\n",
    "print(\"Finished K-Means prediction.\")\n",
    "\n",
    "silhouette = silhouette_score(X_16d, labels, metric='euclidean')\n",
    "print(f\"Silhouette score: {silhouette}\")\n",
    "\n",
    "# Can only run DBCV on a sample of output because it runs out of memory otherwise.\n",
    "X_df = pd.DataFrame(X_16d)\n",
    "labels_df = pd.DataFrame(labels)\n",
    "sample_indices = X_df.sample(frac=0.2, random_state=RANDOM_STATE).index\n",
    "sampled_X = X_df.loc[sample_indices].to_numpy()\n",
    "sampled_labels = labels_df.loc[sample_indices].to_numpy().ravel()\n",
    "\n",
    "dbcv_score = dbcv(sampled_X, sampled_labels, n_processes=8, noise_id=-1)\n",
    "print(f\"DBCV score: {dbcv_score}\")"
   ]
  },
  {
   "cell_type": "markdown",
   "id": "dd17d327",
   "metadata": {},
   "source": [
    "Map on a 2D UMAP for visualisation"
   ]
  },
  {
   "cell_type": "code",
   "execution_count": 22,
   "id": "db6042fe",
   "metadata": {},
   "outputs": [
    {
     "data": {
      "image/png": "[encoded data removed]",
      "text/plain": [
       "<Figure size 1000x600 with 2 Axes>"
      ]
     },
     "metadata": {},
     "output_type": "display_data"
    }
   ],
   "source": [
    "X_2d = umap.UMAP(n_components=2, n_neighbors=15, min_dist=0.1, metric='euclidean').fit_transform(X)\n",
    "\n",
    "plt.figure(figsize=(10, 6))\n",
    "plt.scatter(X_2d[:, 0], X_2d[:, 1], c=labels, s=5)\n",
    "plt.title(\"K-means Clusters Visualized with UMAP\")\n",
    "plt.xlabel(\"Dim 1\")\n",
    "plt.ylabel(\"Dim 2\")\n",
    "plt.colorbar(label='Cluster ID')\n",
    "plt.show()"
   ]
  },
  {
   "cell_type": "code",
   "execution_count": null,
   "id": "68176c94",
   "metadata": {},
   "outputs": [],
   "source": []
  }
 ],
 "metadata": {
  "kernelspec": {
   "display_name": "CTIP",
   "language": "python",
   "name": "python3"
  },
  "language_info": {
   "codemirror_mode": {
    "name": "ipython",
    "version": 3
   },
   "file_extension": ".py",
   "mimetype": "text/x-python",
   "name": "python",
   "nbconvert_exporter": "python",
   "pygments_lexer": "ipython3",
   "version": "3.12.0"
  }
 },
 "nbformat": 4,
 "nbformat_minor": 5
}
