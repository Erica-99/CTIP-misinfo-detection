{
 "cells": [
  {
   "cell_type": "markdown",
   "id": "1eace2d0",
   "metadata": {},
   "source": [
    "# Misinformation Detection\n",
    "### Dataset Loading and Combination Notebook\n",
    "\n",
    "*Session 20 Group 4*\n",
    "*Erica, Sahan, Dinuka*\n"
   ]
  },
  {
   "cell_type": "markdown",
   "id": "168e1499",
   "metadata": {},
   "source": [
    "Imports and setup"
   ]
  },
  {
   "cell_type": "code",
   "execution_count": 27,
   "id": "c964691a",
   "metadata": {},
   "outputs": [],
   "source": [
    "import pandas as pd\n",
    "import os\n",
    "import matplotlib.pyplot as plt\n",
    "import numpy as np\n",
    "from IPython.display import display\n",
    "from bs4 import BeautifulSoup\n",
    "import re\n",
    "import unidecode\n",
    "from bs4 import MarkupResemblesLocatorWarning\n",
    "import warnings\n",
    "\n",
    "warnings.filterwarnings(\"ignore\", category=MarkupResemblesLocatorWarning)"
   ]
  },
  {
   "cell_type": "markdown",
   "id": "851663c9",
   "metadata": {},
   "source": [
    "### Load datasets"
   ]
  },
  {
   "cell_type": "code",
   "execution_count": 28,
   "id": "a700e503",
   "metadata": {},
   "outputs": [],
   "source": [
    "provided_dataset_paths = [\"data/provided/Constraint_English_Test.xlsx\", \"data/provided/Constraint_English_Train.xlsx\", \"data/provided/Constraint_English_Val.xlsx\"]\n",
    "dataset_1_path = \"data/fake-news-detection_10k/fake_and_real_news.csv\"\n",
    "dataset_2_path = \"data/fake-real-news_10k/dataset.csv\"\n",
    "dataset_3_path_real = \"data/misinformation-fake-news-text-dataset_79k/DataSet_Misinfo_TRUE.csv\"\n",
    "dataset_3_path_fake = \"data/misinformation-fake-news-text-dataset_79k/DataSet_Misinfo_FAKE.csv\""
   ]
  },
  {
   "cell_type": "code",
   "execution_count": 37,
   "id": "8dc05a29",
   "metadata": {},
   "outputs": [
    {
     "name": "stdout",
     "output_type": "stream",
     "text": [
      "Provided dataset (0):\n",
      "tweet    10700\n",
      "label    10700\n",
      "dtype: int64\n"
     ]
    },
    {
     "data": {
      "text/html": [
       "<div>\n",
       "<style scoped>\n",
       "    .dataframe tbody tr th:only-of-type {\n",
       "        vertical-align: middle;\n",
       "    }\n",
       "\n",
       "    .dataframe tbody tr th {\n",
       "        vertical-align: top;\n",
       "    }\n",
       "\n",
       "    .dataframe thead th {\n",
       "        text-align: right;\n",
       "    }\n",
       "</style>\n",
       "<table border=\"1\" class=\"dataframe\">\n",
       "  <thead>\n",
       "    <tr style=\"text-align: right;\">\n",
       "      <th></th>\n",
       "      <th>tweet</th>\n",
       "      <th>label</th>\n",
       "    </tr>\n",
       "  </thead>\n",
       "  <tbody>\n",
       "    <tr>\n",
       "      <th>0</th>\n",
       "      <td>Our daily update is published. States reported...</td>\n",
       "      <td>real</td>\n",
       "    </tr>\n",
       "    <tr>\n",
       "      <th>1</th>\n",
       "      <td>Alfalfa is the only cure for COVID-19.</td>\n",
       "      <td>fake</td>\n",
       "    </tr>\n",
       "    <tr>\n",
       "      <th>2</th>\n",
       "      <td>President Trump Asked What He Would Do If He W...</td>\n",
       "      <td>fake</td>\n",
       "    </tr>\n",
       "    <tr>\n",
       "      <th>3</th>\n",
       "      <td>States reported 630 deaths. We are still seein...</td>\n",
       "      <td>real</td>\n",
       "    </tr>\n",
       "    <tr>\n",
       "      <th>4</th>\n",
       "      <td>This is the sixth time a global health emergen...</td>\n",
       "      <td>real</td>\n",
       "    </tr>\n",
       "  </tbody>\n",
       "</table>\n",
       "</div>"
      ],
      "text/plain": [
       "                                               tweet label\n",
       "0  Our daily update is published. States reported...  real\n",
       "1             Alfalfa is the only cure for COVID-19.  fake\n",
       "2  President Trump Asked What He Would Do If He W...  fake\n",
       "3  States reported 630 deaths. We are still seein...  real\n",
       "4  This is the sixth time a global health emergen...  real"
      ]
     },
     "metadata": {},
     "output_type": "display_data"
    },
    {
     "name": "stdout",
     "output_type": "stream",
     "text": [
      "Dataset 1:\n",
      "Text     9900\n",
      "label    9900\n",
      "dtype: int64\n"
     ]
    },
    {
     "data": {
      "text/html": [
       "<div>\n",
       "<style scoped>\n",
       "    .dataframe tbody tr th:only-of-type {\n",
       "        vertical-align: middle;\n",
       "    }\n",
       "\n",
       "    .dataframe tbody tr th {\n",
       "        vertical-align: top;\n",
       "    }\n",
       "\n",
       "    .dataframe thead th {\n",
       "        text-align: right;\n",
       "    }\n",
       "</style>\n",
       "<table border=\"1\" class=\"dataframe\">\n",
       "  <thead>\n",
       "    <tr style=\"text-align: right;\">\n",
       "      <th></th>\n",
       "      <th>Text</th>\n",
       "      <th>label</th>\n",
       "    </tr>\n",
       "  </thead>\n",
       "  <tbody>\n",
       "    <tr>\n",
       "      <th>0</th>\n",
       "      <td>Top Trump Surrogate BRUTALLY Stabs Him In The...</td>\n",
       "      <td>Fake</td>\n",
       "    </tr>\n",
       "    <tr>\n",
       "      <th>1</th>\n",
       "      <td>U.S. conservative leader optimistic of common ...</td>\n",
       "      <td>Real</td>\n",
       "    </tr>\n",
       "    <tr>\n",
       "      <th>2</th>\n",
       "      <td>Trump proposes U.S. tax overhaul, stirs concer...</td>\n",
       "      <td>Real</td>\n",
       "    </tr>\n",
       "    <tr>\n",
       "      <th>3</th>\n",
       "      <td>Court Forces Ohio To Allow Millions Of Illega...</td>\n",
       "      <td>Fake</td>\n",
       "    </tr>\n",
       "    <tr>\n",
       "      <th>4</th>\n",
       "      <td>Democrats say Trump agrees to work on immigrat...</td>\n",
       "      <td>Real</td>\n",
       "    </tr>\n",
       "  </tbody>\n",
       "</table>\n",
       "</div>"
      ],
      "text/plain": [
       "                                                Text label\n",
       "0   Top Trump Surrogate BRUTALLY Stabs Him In The...  Fake\n",
       "1  U.S. conservative leader optimistic of common ...  Real\n",
       "2  Trump proposes U.S. tax overhaul, stirs concer...  Real\n",
       "3   Court Forces Ohio To Allow Millions Of Illega...  Fake\n",
       "4  Democrats say Trump agrees to work on immigrat...  Real"
      ]
     },
     "metadata": {},
     "output_type": "display_data"
    },
    {
     "name": "stdout",
     "output_type": "stream",
     "text": [
      "Dataset 2:\n",
      "News_Headline    9960\n",
      "Link_Of_News     9960\n",
      "Source           9960\n",
      "Stated_On        9960\n",
      "Date             9960\n",
      "Label            9960\n",
      "dtype: int64\n"
     ]
    },
    {
     "data": {
      "text/html": [
       "<div>\n",
       "<style scoped>\n",
       "    .dataframe tbody tr th:only-of-type {\n",
       "        vertical-align: middle;\n",
       "    }\n",
       "\n",
       "    .dataframe tbody tr th {\n",
       "        vertical-align: top;\n",
       "    }\n",
       "\n",
       "    .dataframe thead th {\n",
       "        text-align: right;\n",
       "    }\n",
       "</style>\n",
       "<table border=\"1\" class=\"dataframe\">\n",
       "  <thead>\n",
       "    <tr style=\"text-align: right;\">\n",
       "      <th></th>\n",
       "      <th>News_Headline</th>\n",
       "      <th>Link_Of_News</th>\n",
       "      <th>Source</th>\n",
       "      <th>Stated_On</th>\n",
       "      <th>Date</th>\n",
       "      <th>Label</th>\n",
       "    </tr>\n",
       "  </thead>\n",
       "  <tbody>\n",
       "    <tr>\n",
       "      <th>0</th>\n",
       "      <td>Says Osama bin Laden endorsed Joe Biden</td>\n",
       "      <td>https://www.politifact.com/factchecks/2020/jun...</td>\n",
       "      <td>Donald Trump Jr.</td>\n",
       "      <td>June 18, 2020</td>\n",
       "      <td>June 19, 2020</td>\n",
       "      <td>FALSE</td>\n",
       "    </tr>\n",
       "    <tr>\n",
       "      <th>1</th>\n",
       "      <td>CNN aired a video of a toddler running away fr...</td>\n",
       "      <td>https://www.politifact.com/factchecks/2020/jun...</td>\n",
       "      <td>Donald Trump</td>\n",
       "      <td>June 18, 2020</td>\n",
       "      <td>June 19, 2020</td>\n",
       "      <td>pants-fire</td>\n",
       "    </tr>\n",
       "    <tr>\n",
       "      <th>2</th>\n",
       "      <td>Says Tim Tebow kneeled in protest of abortion...</td>\n",
       "      <td>https://www.politifact.com/factchecks/2020/jun...</td>\n",
       "      <td>Facebook posts</td>\n",
       "      <td>June 12, 2020</td>\n",
       "      <td>June 19, 2020</td>\n",
       "      <td>FALSE</td>\n",
       "    </tr>\n",
       "    <tr>\n",
       "      <th>3</th>\n",
       "      <td>Even so-called moderate Democrats like Joe Bi...</td>\n",
       "      <td>https://www.politifact.com/factchecks/2020/jun...</td>\n",
       "      <td>Paul Junge</td>\n",
       "      <td>June 10, 2020</td>\n",
       "      <td>June 19, 2020</td>\n",
       "      <td>barely-true</td>\n",
       "    </tr>\n",
       "    <tr>\n",
       "      <th>4</th>\n",
       "      <td>\"Our health department, our city and our count...</td>\n",
       "      <td>https://www.politifact.com/factchecks/2020/jun...</td>\n",
       "      <td>Jeanette Kowalik</td>\n",
       "      <td>June 14, 2020</td>\n",
       "      <td>June 18, 2020</td>\n",
       "      <td>TRUE</td>\n",
       "    </tr>\n",
       "  </tbody>\n",
       "</table>\n",
       "</div>"
      ],
      "text/plain": [
       "                                       News_Headline  \\\n",
       "0            Says Osama bin Laden endorsed Joe Biden   \n",
       "1  CNN aired a video of a toddler running away fr...   \n",
       "2  Says Tim Tebow kneeled in protest of abortion...   \n",
       "3  Even so-called moderate Democrats like Joe Bi...   \n",
       "4  \"Our health department, our city and our count...   \n",
       "\n",
       "                                        Link_Of_News            Source  \\\n",
       "0  https://www.politifact.com/factchecks/2020/jun...  Donald Trump Jr.   \n",
       "1  https://www.politifact.com/factchecks/2020/jun...      Donald Trump   \n",
       "2  https://www.politifact.com/factchecks/2020/jun...    Facebook posts   \n",
       "3  https://www.politifact.com/factchecks/2020/jun...        Paul Junge   \n",
       "4  https://www.politifact.com/factchecks/2020/jun...  Jeanette Kowalik   \n",
       "\n",
       "        Stated_On            Date        Label  \n",
       "0   June 18, 2020   June 19, 2020        FALSE  \n",
       "1   June 18, 2020   June 19, 2020   pants-fire  \n",
       "2   June 12, 2020   June 19, 2020        FALSE  \n",
       "3   June 10, 2020   June 19, 2020  barely-true  \n",
       "4   June 14, 2020   June 18, 2020         TRUE  "
      ]
     },
     "metadata": {},
     "output_type": "display_data"
    },
    {
     "name": "stdout",
     "output_type": "stream",
     "text": [
      "Dataset 3 (Real):\n",
      "text    34946\n",
      "dtype: int64\n"
     ]
    },
    {
     "data": {
      "text/html": [
       "<div>\n",
       "<style scoped>\n",
       "    .dataframe tbody tr th:only-of-type {\n",
       "        vertical-align: middle;\n",
       "    }\n",
       "\n",
       "    .dataframe tbody tr th {\n",
       "        vertical-align: top;\n",
       "    }\n",
       "\n",
       "    .dataframe thead th {\n",
       "        text-align: right;\n",
       "    }\n",
       "</style>\n",
       "<table border=\"1\" class=\"dataframe\">\n",
       "  <thead>\n",
       "    <tr style=\"text-align: right;\">\n",
       "      <th></th>\n",
       "      <th>text</th>\n",
       "    </tr>\n",
       "  </thead>\n",
       "  <tbody>\n",
       "    <tr>\n",
       "      <th>0</th>\n",
       "      <td>The head of a conservative Republican faction ...</td>\n",
       "    </tr>\n",
       "    <tr>\n",
       "      <th>1</th>\n",
       "      <td>Transgender people will be allowed for the fir...</td>\n",
       "    </tr>\n",
       "    <tr>\n",
       "      <th>2</th>\n",
       "      <td>The special counsel investigation of links bet...</td>\n",
       "    </tr>\n",
       "    <tr>\n",
       "      <th>3</th>\n",
       "      <td>Trump campaign adviser George Papadopoulos tol...</td>\n",
       "    </tr>\n",
       "    <tr>\n",
       "      <th>4</th>\n",
       "      <td>President Donald Trump called on the U.S. Post...</td>\n",
       "    </tr>\n",
       "  </tbody>\n",
       "</table>\n",
       "</div>"
      ],
      "text/plain": [
       "                                                text\n",
       "0  The head of a conservative Republican faction ...\n",
       "1  Transgender people will be allowed for the fir...\n",
       "2  The special counsel investigation of links bet...\n",
       "3  Trump campaign adviser George Papadopoulos tol...\n",
       "4  President Donald Trump called on the U.S. Post..."
      ]
     },
     "metadata": {},
     "output_type": "display_data"
    },
    {
     "name": "stdout",
     "output_type": "stream",
     "text": [
      "Dataset 3 (Fake):\n",
      "text    43642\n",
      "dtype: int64\n"
     ]
    },
    {
     "data": {
      "text/html": [
       "<div>\n",
       "<style scoped>\n",
       "    .dataframe tbody tr th:only-of-type {\n",
       "        vertical-align: middle;\n",
       "    }\n",
       "\n",
       "    .dataframe tbody tr th {\n",
       "        vertical-align: top;\n",
       "    }\n",
       "\n",
       "    .dataframe thead th {\n",
       "        text-align: right;\n",
       "    }\n",
       "</style>\n",
       "<table border=\"1\" class=\"dataframe\">\n",
       "  <thead>\n",
       "    <tr style=\"text-align: right;\">\n",
       "      <th></th>\n",
       "      <th>text</th>\n",
       "    </tr>\n",
       "  </thead>\n",
       "  <tbody>\n",
       "    <tr>\n",
       "      <th>0</th>\n",
       "      <td>Donald Trump just couldn t wish all Americans ...</td>\n",
       "    </tr>\n",
       "    <tr>\n",
       "      <th>1</th>\n",
       "      <td>House Intelligence Committee Chairman Devin Nu...</td>\n",
       "    </tr>\n",
       "    <tr>\n",
       "      <th>2</th>\n",
       "      <td>On Friday, it was revealed that former Milwauk...</td>\n",
       "    </tr>\n",
       "    <tr>\n",
       "      <th>3</th>\n",
       "      <td>On Christmas day, Donald Trump announced that ...</td>\n",
       "    </tr>\n",
       "    <tr>\n",
       "      <th>4</th>\n",
       "      <td>Pope Francis used his annual Christmas Day mes...</td>\n",
       "    </tr>\n",
       "  </tbody>\n",
       "</table>\n",
       "</div>"
      ],
      "text/plain": [
       "                                                text\n",
       "0  Donald Trump just couldn t wish all Americans ...\n",
       "1  House Intelligence Committee Chairman Devin Nu...\n",
       "2  On Friday, it was revealed that former Milwauk...\n",
       "3  On Christmas day, Donald Trump announced that ...\n",
       "4  Pope Francis used his annual Christmas Day mes..."
      ]
     },
     "metadata": {},
     "output_type": "display_data"
    }
   ],
   "source": [
    "dataset_0 = pd.concat((pd.read_excel(f, index_col=0) for f in provided_dataset_paths), ignore_index=True)\n",
    "\n",
    "print(\"Provided dataset (0):\\n\"+str(dataset_0.count()))\n",
    "display(dataset_0.head())\n",
    "\n",
    "dataset_1 = pd.read_csv(dataset_1_path)\n",
    "\n",
    "print(\"Dataset 1:\\n\"+str(dataset_1.count()))\n",
    "display(dataset_1.head())\n",
    "\n",
    "dataset_2 = pd.read_csv(dataset_2_path, encoding='latin-1')\n",
    "\n",
    "print(\"Dataset 2:\\n\"+str(dataset_2.count()))\n",
    "display(dataset_2.head())\n",
    "\n",
    "dataset_3_real = pd.read_csv(dataset_3_path_real, index_col=0)\n",
    "\n",
    "print(\"Dataset 3 (Real):\\n\"+str(dataset_3_real.count()))\n",
    "display(dataset_3_real.head())\n",
    "\n",
    "dataset_3_fake = pd.read_csv(dataset_3_path_fake, index_col=0)\n",
    "\n",
    "print(\"Dataset 3 (Fake):\\n\"+str(dataset_3_fake.count()))\n",
    "display(dataset_3_fake.head())"
   ]
  },
  {
   "cell_type": "markdown",
   "id": "9c75e561",
   "metadata": {},
   "source": [
    "### Things to fix so that datasets can be combined:\n",
    "\n",
    "Dataset 0:\n",
    "- Rename tweet column to 'text'\n",
    "\n",
    "Dataset 1:\n",
    "- Rename 'Text' column to 'text'\n",
    "- Set labels to lowercase\n",
    "\n",
    "Dataset 2:\n",
    "- Drop extra columns\n",
    "- Consider keeping as a separate dataset with the extra columns for an alternative model\n",
    "- Make labels properly binary. Currently: (TRUE, mostly-true, half-true, barely-true, FALSE, pants-fire). Set so that >= half-true is real, and anything else is fake.\n",
    "\n",
    "Dataset 3:\n",
    "- Combine into one dataframe with a label column\n",
    "\n",
    "Once all of the above is done, the datasets can be combined and further preprocessing can be done to ready the data for visualisation or training."
   ]
  },
  {
   "cell_type": "markdown",
   "id": "3197ed01",
   "metadata": {},
   "source": [
    "Dataset 0:"
   ]
  },
  {
   "cell_type": "code",
   "execution_count": 38,
   "id": "2288f3f9",
   "metadata": {},
   "outputs": [
    {
     "data": {
      "text/html": [
       "<div>\n",
       "<style scoped>\n",
       "    .dataframe tbody tr th:only-of-type {\n",
       "        vertical-align: middle;\n",
       "    }\n",
       "\n",
       "    .dataframe tbody tr th {\n",
       "        vertical-align: top;\n",
       "    }\n",
       "\n",
       "    .dataframe thead th {\n",
       "        text-align: right;\n",
       "    }\n",
       "</style>\n",
       "<table border=\"1\" class=\"dataframe\">\n",
       "  <thead>\n",
       "    <tr style=\"text-align: right;\">\n",
       "      <th></th>\n",
       "      <th>text</th>\n",
       "      <th>label</th>\n",
       "    </tr>\n",
       "  </thead>\n",
       "  <tbody>\n",
       "    <tr>\n",
       "      <th>0</th>\n",
       "      <td>Our daily update is published. States reported...</td>\n",
       "      <td>real</td>\n",
       "    </tr>\n",
       "    <tr>\n",
       "      <th>1</th>\n",
       "      <td>Alfalfa is the only cure for COVID-19.</td>\n",
       "      <td>fake</td>\n",
       "    </tr>\n",
       "    <tr>\n",
       "      <th>2</th>\n",
       "      <td>President Trump Asked What He Would Do If He W...</td>\n",
       "      <td>fake</td>\n",
       "    </tr>\n",
       "    <tr>\n",
       "      <th>3</th>\n",
       "      <td>States reported 630 deaths. We are still seein...</td>\n",
       "      <td>real</td>\n",
       "    </tr>\n",
       "    <tr>\n",
       "      <th>4</th>\n",
       "      <td>This is the sixth time a global health emergen...</td>\n",
       "      <td>real</td>\n",
       "    </tr>\n",
       "  </tbody>\n",
       "</table>\n",
       "</div>"
      ],
      "text/plain": [
       "                                                text label\n",
       "0  Our daily update is published. States reported...  real\n",
       "1             Alfalfa is the only cure for COVID-19.  fake\n",
       "2  President Trump Asked What He Would Do If He W...  fake\n",
       "3  States reported 630 deaths. We are still seein...  real\n",
       "4  This is the sixth time a global health emergen...  real"
      ]
     },
     "execution_count": 38,
     "metadata": {},
     "output_type": "execute_result"
    }
   ],
   "source": [
    "dataset_0 = dataset_0.rename(columns={\"tweet\": \"text\", \"label\": \"label\"})\n",
    "dataset_0.head()"
   ]
  },
  {
   "cell_type": "markdown",
   "id": "f73cbab1",
   "metadata": {},
   "source": [
    "Dataset 1:"
   ]
  },
  {
   "cell_type": "code",
   "execution_count": 39,
   "id": "e14d1061",
   "metadata": {},
   "outputs": [
    {
     "data": {
      "text/html": [
       "<div>\n",
       "<style scoped>\n",
       "    .dataframe tbody tr th:only-of-type {\n",
       "        vertical-align: middle;\n",
       "    }\n",
       "\n",
       "    .dataframe tbody tr th {\n",
       "        vertical-align: top;\n",
       "    }\n",
       "\n",
       "    .dataframe thead th {\n",
       "        text-align: right;\n",
       "    }\n",
       "</style>\n",
       "<table border=\"1\" class=\"dataframe\">\n",
       "  <thead>\n",
       "    <tr style=\"text-align: right;\">\n",
       "      <th></th>\n",
       "      <th>text</th>\n",
       "      <th>label</th>\n",
       "    </tr>\n",
       "  </thead>\n",
       "  <tbody>\n",
       "    <tr>\n",
       "      <th>0</th>\n",
       "      <td>Top Trump Surrogate BRUTALLY Stabs Him In The...</td>\n",
       "      <td>fake</td>\n",
       "    </tr>\n",
       "    <tr>\n",
       "      <th>1</th>\n",
       "      <td>U.S. conservative leader optimistic of common ...</td>\n",
       "      <td>real</td>\n",
       "    </tr>\n",
       "    <tr>\n",
       "      <th>2</th>\n",
       "      <td>Trump proposes U.S. tax overhaul, stirs concer...</td>\n",
       "      <td>real</td>\n",
       "    </tr>\n",
       "    <tr>\n",
       "      <th>3</th>\n",
       "      <td>Court Forces Ohio To Allow Millions Of Illega...</td>\n",
       "      <td>fake</td>\n",
       "    </tr>\n",
       "    <tr>\n",
       "      <th>4</th>\n",
       "      <td>Democrats say Trump agrees to work on immigrat...</td>\n",
       "      <td>real</td>\n",
       "    </tr>\n",
       "  </tbody>\n",
       "</table>\n",
       "</div>"
      ],
      "text/plain": [
       "                                                text label\n",
       "0   Top Trump Surrogate BRUTALLY Stabs Him In The...  fake\n",
       "1  U.S. conservative leader optimistic of common ...  real\n",
       "2  Trump proposes U.S. tax overhaul, stirs concer...  real\n",
       "3   Court Forces Ohio To Allow Millions Of Illega...  fake\n",
       "4  Democrats say Trump agrees to work on immigrat...  real"
      ]
     },
     "execution_count": 39,
     "metadata": {},
     "output_type": "execute_result"
    }
   ],
   "source": [
    "dataset_1.columns = map(str.lower, dataset_1.columns)\n",
    "dataset_1[\"label\"] = dataset_1[\"label\"].str.lower()\n",
    "\n",
    "dataset_1.head()"
   ]
  },
  {
   "cell_type": "markdown",
   "id": "95c69c34",
   "metadata": {},
   "source": [
    "Dataset 2:"
   ]
  },
  {
   "cell_type": "code",
   "execution_count": 40,
   "id": "8cc99d8d",
   "metadata": {},
   "outputs": [
    {
     "data": {
      "text/html": [
       "<div>\n",
       "<style scoped>\n",
       "    .dataframe tbody tr th:only-of-type {\n",
       "        vertical-align: middle;\n",
       "    }\n",
       "\n",
       "    .dataframe tbody tr th {\n",
       "        vertical-align: top;\n",
       "    }\n",
       "\n",
       "    .dataframe thead th {\n",
       "        text-align: right;\n",
       "    }\n",
       "</style>\n",
       "<table border=\"1\" class=\"dataframe\">\n",
       "  <thead>\n",
       "    <tr style=\"text-align: right;\">\n",
       "      <th></th>\n",
       "      <th>text</th>\n",
       "      <th>label</th>\n",
       "    </tr>\n",
       "  </thead>\n",
       "  <tbody>\n",
       "    <tr>\n",
       "      <th>0</th>\n",
       "      <td>Says Osama bin Laden endorsed Joe Biden</td>\n",
       "      <td>fake</td>\n",
       "    </tr>\n",
       "    <tr>\n",
       "      <th>1</th>\n",
       "      <td>CNN aired a video of a toddler running away fr...</td>\n",
       "      <td>fake</td>\n",
       "    </tr>\n",
       "    <tr>\n",
       "      <th>2</th>\n",
       "      <td>Says Tim Tebow kneeled in protest of abortion...</td>\n",
       "      <td>fake</td>\n",
       "    </tr>\n",
       "    <tr>\n",
       "      <th>3</th>\n",
       "      <td>Even so-called moderate Democrats like Joe Bi...</td>\n",
       "      <td>fake</td>\n",
       "    </tr>\n",
       "    <tr>\n",
       "      <th>4</th>\n",
       "      <td>\"Our health department, our city and our count...</td>\n",
       "      <td>real</td>\n",
       "    </tr>\n",
       "  </tbody>\n",
       "</table>\n",
       "</div>"
      ],
      "text/plain": [
       "                                                text label\n",
       "0            Says Osama bin Laden endorsed Joe Biden  fake\n",
       "1  CNN aired a video of a toddler running away fr...  fake\n",
       "2  Says Tim Tebow kneeled in protest of abortion...  fake\n",
       "3  Even so-called moderate Democrats like Joe Bi...  fake\n",
       "4  \"Our health department, our city and our count...  real"
      ]
     },
     "execution_count": 40,
     "metadata": {},
     "output_type": "execute_result"
    }
   ],
   "source": [
    "dataset_2 = dataset_2.drop(labels=[\"Link_Of_News\", \"Source\", \"Stated_On\", \"Date\"], axis=1)\n",
    "dataset_2 = dataset_2.rename(columns={\"News_Headline\": \"text\", \"Label\": \"label\"})\n",
    "\n",
    "def binarise_label(label_text):\n",
    "    if label_text in [\"TRUE\", \"mostly-true\", \"half-true\"]:\n",
    "        return \"real\"\n",
    "    elif label_text in [\"barely-true\", \"FALSE\", \"pants-fire\"]:\n",
    "        return \"fake\"\n",
    "    else:\n",
    "        return \"\"\n",
    "    \n",
    "dataset_2['label'] = dataset_2['label'].map(binarise_label)\n",
    "\n",
    "dataset_2.head()"
   ]
  },
  {
   "cell_type": "markdown",
   "id": "b4a5b62b",
   "metadata": {},
   "source": [
    "Dataset 3:"
   ]
  },
  {
   "cell_type": "code",
   "execution_count": 41,
   "id": "0fd7c332",
   "metadata": {},
   "outputs": [
    {
     "data": {
      "text/html": [
       "<div>\n",
       "<style scoped>\n",
       "    .dataframe tbody tr th:only-of-type {\n",
       "        vertical-align: middle;\n",
       "    }\n",
       "\n",
       "    .dataframe tbody tr th {\n",
       "        vertical-align: top;\n",
       "    }\n",
       "\n",
       "    .dataframe thead th {\n",
       "        text-align: right;\n",
       "    }\n",
       "</style>\n",
       "<table border=\"1\" class=\"dataframe\">\n",
       "  <thead>\n",
       "    <tr style=\"text-align: right;\">\n",
       "      <th></th>\n",
       "      <th>text</th>\n",
       "      <th>label</th>\n",
       "    </tr>\n",
       "  </thead>\n",
       "  <tbody>\n",
       "    <tr>\n",
       "      <th>0</th>\n",
       "      <td>North Korea is preparing to test a long-range ...</td>\n",
       "      <td>real</td>\n",
       "    </tr>\n",
       "    <tr>\n",
       "      <th>1</th>\n",
       "      <td>WEED, Calif.  —   The water that gurgles from ...</td>\n",
       "      <td>real</td>\n",
       "    </tr>\n",
       "    <tr>\n",
       "      <th>2</th>\n",
       "      <td>A potential deal with the United States to upg...</td>\n",
       "      <td>real</td>\n",
       "    </tr>\n",
       "    <tr>\n",
       "      <th>3</th>\n",
       "      <td>It s no secret that Rosie O Donnell and Donald...</td>\n",
       "      <td>fake</td>\n",
       "    </tr>\n",
       "    <tr>\n",
       "      <th>4</th>\n",
       "      <td>Ukrainian intelligence services and members of...</td>\n",
       "      <td>fake</td>\n",
       "    </tr>\n",
       "  </tbody>\n",
       "</table>\n",
       "</div>"
      ],
      "text/plain": [
       "                                                text label\n",
       "0  North Korea is preparing to test a long-range ...  real\n",
       "1  WEED, Calif.  —   The water that gurgles from ...  real\n",
       "2  A potential deal with the United States to upg...  real\n",
       "3  It s no secret that Rosie O Donnell and Donald...  fake\n",
       "4  Ukrainian intelligence services and members of...  fake"
      ]
     },
     "execution_count": 41,
     "metadata": {},
     "output_type": "execute_result"
    }
   ],
   "source": [
    "dataset_3_fake['label'] = \"fake\"\n",
    "dataset_3_real['label'] = \"real\"\n",
    "\n",
    "dataset_3 = pd.concat([dataset_3_fake, dataset_3_real])\n",
    "dataset_3 = dataset_3.sample(frac=1) # Randomise the row order\n",
    "dataset_3 = dataset_3.reset_index(drop=True)\n",
    "dataset_3.head()"
   ]
  },
  {
   "cell_type": "markdown",
   "id": "52072c25",
   "metadata": {},
   "source": [
    "Combine all datasets into one:"
   ]
  },
  {
   "cell_type": "code",
   "execution_count": 42,
   "id": "8fb91cf7",
   "metadata": {},
   "outputs": [
    {
     "data": {
      "text/plain": [
       "text     109148\n",
       "label    109177\n",
       "dtype: int64"
      ]
     },
     "metadata": {},
     "output_type": "display_data"
    },
    {
     "data": {
      "text/html": [
       "<div>\n",
       "<style scoped>\n",
       "    .dataframe tbody tr th:only-of-type {\n",
       "        vertical-align: middle;\n",
       "    }\n",
       "\n",
       "    .dataframe tbody tr th {\n",
       "        vertical-align: top;\n",
       "    }\n",
       "\n",
       "    .dataframe thead th {\n",
       "        text-align: right;\n",
       "    }\n",
       "</style>\n",
       "<table border=\"1\" class=\"dataframe\">\n",
       "  <thead>\n",
       "    <tr style=\"text-align: right;\">\n",
       "      <th></th>\n",
       "      <th>text</th>\n",
       "      <th>label</th>\n",
       "    </tr>\n",
       "  </thead>\n",
       "  <tbody>\n",
       "    <tr>\n",
       "      <th>0</th>\n",
       "      <td>Says that President Barack Obama said an attac...</td>\n",
       "      <td>fake</td>\n",
       "    </tr>\n",
       "    <tr>\n",
       "      <th>1</th>\n",
       "      <td>Liberals love us some Ruth Bader Ginsberg, who...</td>\n",
       "      <td>fake</td>\n",
       "    </tr>\n",
       "    <tr>\n",
       "      <th>2</th>\n",
       "      <td>Representative Jeb Hensarling, the Republican ...</td>\n",
       "      <td>real</td>\n",
       "    </tr>\n",
       "    <tr>\n",
       "      <th>3</th>\n",
       "      <td>When Devin Nunes went running to Trump with in...</td>\n",
       "      <td>fake</td>\n",
       "    </tr>\n",
       "    <tr>\n",
       "      <th>4</th>\n",
       "      <td>We Are about to Witness the Biggest Supermoon ...</td>\n",
       "      <td>fake</td>\n",
       "    </tr>\n",
       "  </tbody>\n",
       "</table>\n",
       "</div>"
      ],
      "text/plain": [
       "                                                text label\n",
       "0  Says that President Barack Obama said an attac...  fake\n",
       "1  Liberals love us some Ruth Bader Ginsberg, who...  fake\n",
       "2  Representative Jeb Hensarling, the Republican ...  real\n",
       "3  When Devin Nunes went running to Trump with in...  fake\n",
       "4  We Are about to Witness the Biggest Supermoon ...  fake"
      ]
     },
     "execution_count": 42,
     "metadata": {},
     "output_type": "execute_result"
    }
   ],
   "source": [
    "main_dataset = pd.concat([dataset_0, dataset_1, dataset_2, dataset_3])\n",
    "main_dataset = main_dataset.sample(frac=1)\n",
    "main_dataset = main_dataset.reset_index(drop=True)\n",
    "\n",
    "display(main_dataset.count())\n",
    "main_dataset.head()"
   ]
  },
  {
   "cell_type": "markdown",
   "id": "3ae90a9a",
   "metadata": {},
   "source": [
    "Save into a file:"
   ]
  },
  {
   "cell_type": "code",
   "execution_count": 43,
   "id": "4b7341a7",
   "metadata": {},
   "outputs": [],
   "source": [
    "main_dataset.to_csv(\"data/total_dataset.csv\")"
   ]
  },
  {
   "cell_type": "markdown",
   "id": "05356a9c",
   "metadata": {},
   "source": [
    "### Cleaning dataset"
   ]
  },
  {
   "cell_type": "code",
   "execution_count": 44,
   "id": "d361ff5e",
   "metadata": {},
   "outputs": [
    {
     "name": "stdout",
     "output_type": "stream",
     "text": [
      "Before culling:\n",
      " text     109148\n",
      "label    109177\n",
      "dtype: int64\n",
      "After culling:\n",
      " text     109043\n",
      "label    109043\n",
      "dtype: int64\n"
     ]
    }
   ],
   "source": [
    "dataset = main_dataset\n",
    "print(f\"Before culling:\\n {dataset.count()}\")\n",
    "dataset = main_dataset.replace('', np.nan)\n",
    "dataset = dataset.dropna()\n",
    "print(f\"After culling:\\n {dataset.count()}\")"
   ]
  },
  {
   "cell_type": "code",
   "execution_count": 45,
   "id": "644eea1f",
   "metadata": {},
   "outputs": [],
   "source": [
    "# Remove newlines and tabs\n",
    "def remove_newlines_tabs(text):\n",
    "    formatted_text = text.replace('\\\\n', ' ').replace('\\n', ' ').replace('\\t',' ').replace('\\\\', ' ').replace('. com', '.com')\n",
    "    return formatted_text\n",
    "\n",
    "dataset['text'] = dataset['text'].map(remove_newlines_tabs)\n",
    "\n",
    "# Strip any html tags\n",
    "def strip_html_tags(text):\n",
    "    soup = BeautifulSoup(text, \"html.parser\")\n",
    "    stripped_text = soup.get_text(separator=\" \")\n",
    "    return stripped_text\n",
    "\n",
    "dataset['text'] = dataset['text'].map(strip_html_tags)\n",
    "\n",
    "# Condense whitespace\n",
    "def remove_whitespace(text):\n",
    "    pattern = re.compile(r'\\s+')\n",
    "    without_whitespace = re.sub(pattern, ' ', text)\n",
    "    output_text = without_whitespace.replace('?', ' ? ').replace(')', ') ') # Add a space after ? or ) since these end words.\n",
    "    return output_text\n",
    "\n",
    "dataset['text'] = dataset['text'].map(remove_whitespace)\n",
    "\n",
    "# Remove accented characters\n",
    "def accented_characters_removal(text):\n",
    "    decoded_text = unidecode.unidecode(text)\n",
    "    return decoded_text\n",
    "\n",
    "dataset['text'] = dataset['text'].map(accented_characters_removal)\n"
   ]
  },
  {
   "cell_type": "code",
   "execution_count": null,
   "id": "3cf3c91a",
   "metadata": {},
   "outputs": [],
   "source": []
  }
 ],
 "metadata": {
  "kernelspec": {
   "display_name": "CTIP",
   "language": "python",
   "name": "python3"
  },
  "language_info": {
   "codemirror_mode": {
    "name": "ipython",
    "version": 3
   },
   "file_extension": ".py",
   "mimetype": "text/x-python",
   "name": "python",
   "nbconvert_exporter": "python",
   "pygments_lexer": "ipython3",
   "version": "3.12.0"
  }
 },
 "nbformat": 4,
 "nbformat_minor": 5
}
